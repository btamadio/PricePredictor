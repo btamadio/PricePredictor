{
 "cells": [
  {
   "cell_type": "code",
   "execution_count": 23,
   "metadata": {
    "collapsed": false
   },
   "outputs": [],
   "source": [
    "import pandas as pd\n",
    "import math\n",
    "import matplotlib.pyplot as plt\n",
    "import numpy as np\n",
    "import matplotlib\n",
    "from sklearn.ensemble import RandomForestRegressor\n",
    "%matplotlib inline\n",
    "matplotlib.rcParams['figure.figsize'] = (8, 5.5)"
   ]
  },
  {
   "cell_type": "code",
   "execution_count": 24,
   "metadata": {
    "collapsed": true
   },
   "outputs": [],
   "source": [
    "def dist_to_ferry(lat,lon):\n",
    "    ferry = (37.795623,-122.393439)\n",
    "    result = (lat-ferry[0])*(lat-ferry[0])+(lon-ferry[1])*(lon-ferry[1])\n",
    "    return math.sqrt(result)"
   ]
  },
  {
   "cell_type": "code",
   "execution_count": 25,
   "metadata": {
    "collapsed": false
   },
   "outputs": [],
   "source": [
    "#read and transform dataset\n",
    "df = pd.read_csv('data/SF_data_private_2.csv',delimiter=';');\n",
    "df=df.dropna();\n",
    "df=df.drop('page',1)\n",
    "df=df[df.price<500]"
   ]
  },
  {
   "cell_type": "code",
   "execution_count": 26,
   "metadata": {
    "collapsed": false
   },
   "outputs": [],
   "source": [
    "df['log_dist_ferry']=df.apply(lambda x:math.log(1/dist_to_ferry(x['lat'],x['lon'])),axis=1)\n",
    "df['bed_futon'] = df['bed_type'].apply(lambda x: x=='Futon')\n",
    "df['bed_real'] = df['bed_type'].apply(lambda x: x=='Real Bed')\n",
    "df['bed_air'] = df['bed_type'].apply(lambda x: x=='Airbed')\n",
    "df['bed_sofa'] = df['bed_type'].apply(lambda x:x=='Pull-out Sofa')\n",
    "df['bed_couch'] = df['bed_type'].apply(lambda x: x=='Couch')"
   ]
  },
  {
   "cell_type": "code",
   "execution_count": 27,
   "metadata": {
    "collapsed": false
   },
   "outputs": [],
   "source": [
    "df['private_room'] = df['room_type'].apply(lambda x: x=='Private room')\n",
    "df['entire_home'] = df['room_type'].apply(lambda x: x=='Entire home/apt')\n",
    "#add the other option"
   ]
  },
  {
   "cell_type": "code",
   "execution_count": 28,
   "metadata": {
    "collapsed": false
   },
   "outputs": [
    {
     "name": "stdout",
     "output_type": "stream",
     "text": [
      "M_train = 1310, M_test = 437\n"
     ]
    }
   ],
   "source": [
    "#Number of training samples\n",
    "M_train = int(len(df.index)*0.75)\n",
    "\n",
    "#Randomly sample training set.\n",
    "train_rows = np.random.choice(df.index.values,M_train)\n",
    "df_train = df.ix[train_rows]\n",
    "df_test = df.drop(train_rows)\n",
    "\n",
    "print('M_train = %i, M_test = %i' % (M_train,len(df.index)-M_train))\n",
    "#df.plot.scatter(x='lon',y='lat',c=df['price']/25);"
   ]
  },
  {
   "cell_type": "code",
   "execution_count": 29,
   "metadata": {
    "collapsed": false
   },
   "outputs": [
    {
     "data": {
      "text/plain": [
       "['room_id',\n",
       " 'acc_rating',\n",
       " 'cancel_policy',\n",
       " 'checkin_rating',\n",
       " 'cleanliness_rating',\n",
       " 'communication_rating',\n",
       " 'guest_sat',\n",
       " 'hosting_id',\n",
       " 'instant_book',\n",
       " 'is_superhost',\n",
       " 'loc_rating',\n",
       " 'lat',\n",
       " 'lon',\n",
       " 'person_cap',\n",
       " 'pic_count',\n",
       " 'saved_to_wishlist_count',\n",
       " 'value_rating',\n",
       " 'rev_count',\n",
       " 'star_rating',\n",
       " 'amen_1',\n",
       " 'amen_2',\n",
       " 'amen_3',\n",
       " 'amen_4',\n",
       " 'amen_5',\n",
       " 'amen_6',\n",
       " 'amen_7',\n",
       " 'amen_8',\n",
       " 'amen_9',\n",
       " 'amen_10',\n",
       " 'amen_11',\n",
       " 'amen_12',\n",
       " 'amen_13',\n",
       " 'amen_14',\n",
       " 'amen_15',\n",
       " 'amen_16',\n",
       " 'amen_17',\n",
       " 'amen_18',\n",
       " 'amen_19',\n",
       " 'amen_20',\n",
       " 'amen_21',\n",
       " 'amen_22',\n",
       " 'amen_23',\n",
       " 'amen_24',\n",
       " 'amen_25',\n",
       " 'amen_26',\n",
       " 'amen_27',\n",
       " 'amen_28',\n",
       " 'amen_29',\n",
       " 'amen_30',\n",
       " 'amen_31',\n",
       " 'amen_32',\n",
       " 'amen_33',\n",
       " 'amen_34',\n",
       " 'amen_35',\n",
       " 'amen_36',\n",
       " 'amen_37',\n",
       " 'amen_38',\n",
       " 'amen_39',\n",
       " 'amen_40',\n",
       " 'amen_41',\n",
       " 'amen_42',\n",
       " 'amen_43',\n",
       " 'amen_44',\n",
       " 'amen_45',\n",
       " 'amen_46',\n",
       " 'amen_47',\n",
       " 'amen_48',\n",
       " 'amen_49',\n",
       " 'amen_50',\n",
       " 'log_dist_ferry',\n",
       " 'bed_futon',\n",
       " 'bed_real',\n",
       " 'bed_air',\n",
       " 'bed_sofa',\n",
       " 'bed_couch',\n",
       " 'private_room',\n",
       " 'entire_home']"
      ]
     },
     "execution_count": 29,
     "metadata": {},
     "output_type": "execute_result"
    }
   ],
   "source": [
    "#featureList = ['star_rating','person_cap','instant_book','acc_rating','checkin_rating','cleanliness_rating','communication_rating','guest_sat','is_superhost','loc_rating','lat','lon','pic_count','saved_to_wishlist_count','rev_count','value_rating']\n",
    "#featureList = ['bed_type','log_dist_ferry','pic_count','saved_to_wishlist_count','rev_count','guest_sat','is_superhost','amen_42','loc_rating','cleanliness_rating','communication_rating']\n",
    "featureList = list(df.drop(['price','room_type','bed_type'],1))\n",
    "X = np.array(df_train[featureList])\n",
    "Y = np.array(df_train['price'].astype('float'))\n",
    "forest=RandomForestRegressor(n_estimators=50)\n",
    "forest.fit(df_train[featureList],df_train['price'])\n",
    "df['pred_price']=forest.predict(df[featureList])\n",
    "featureList"
   ]
  },
  {
   "cell_type": "code",
   "execution_count": 12,
   "metadata": {
    "collapsed": false
   },
   "outputs": [
    {
     "name": "stdout",
     "output_type": "stream",
     "text": [
      "Feature ranking:\n",
      "1. feature 69 (0.351118)\n",
      "2. feature 15 (0.098590)\n",
      "3. feature 13 (0.077111)\n",
      "4. feature 11 (0.057839)\n",
      "5. feature 12 (0.040029)\n",
      "6. feature 14 (0.029380)\n",
      "7. feature 6 (0.026288)\n",
      "8. feature 0 (0.023290)\n",
      "9. feature 7 (0.021525)\n",
      "10. feature 4 (0.020860)\n",
      "11. feature 17 (0.020544)\n",
      "12. feature 34 (0.015054)\n",
      "13. feature 1 (0.010461)\n",
      "14. feature 50 (0.010425)\n",
      "15. feature 10 (0.010318)\n",
      "16. feature 16 (0.010090)\n",
      "17. feature 24 (0.009502)\n",
      "18. feature 27 (0.009250)\n",
      "19. feature 54 (0.008601)\n",
      "20. feature 21 (0.007690)\n",
      "21. feature 2 (0.007679)\n",
      "22. feature 20 (0.007120)\n",
      "23. feature 33 (0.006932)\n",
      "24. feature 23 (0.006547)\n",
      "25. feature 63 (0.006202)\n",
      "26. feature 49 (0.005996)\n",
      "27. feature 19 (0.005954)\n",
      "28. feature 9 (0.005028)\n",
      "29. feature 18 (0.004998)\n",
      "30. feature 64 (0.004864)\n",
      "31. feature 56 (0.004522)\n",
      "32. feature 74 (0.004313)\n",
      "33. feature 26 (0.004096)\n",
      "34. feature 45 (0.003922)\n",
      "35. feature 67 (0.003799)\n",
      "36. feature 39 (0.003648)\n",
      "37. feature 59 (0.003585)\n",
      "38. feature 65 (0.003578)\n",
      "39. feature 8 (0.003528)\n",
      "40. feature 61 (0.003453)\n",
      "41. feature 60 (0.003368)\n",
      "42. feature 46 (0.003170)\n",
      "43. feature 55 (0.002975)\n",
      "44. feature 43 (0.002922)\n",
      "45. feature 57 (0.002842)\n",
      "46. feature 32 (0.002827)\n",
      "47. feature 5 (0.002743)\n",
      "48. feature 68 (0.002433)\n",
      "49. feature 25 (0.002177)\n",
      "50. feature 62 (0.002094)\n",
      "51. feature 30 (0.001998)\n",
      "52. feature 52 (0.001896)\n",
      "53. feature 3 (0.001851)\n",
      "54. feature 36 (0.001538)\n",
      "55. feature 58 (0.001248)\n",
      "56. feature 51 (0.001215)\n",
      "57. feature 53 (0.001129)\n",
      "58. feature 48 (0.000971)\n",
      "59. feature 35 (0.000961)\n",
      "60. feature 37 (0.000561)\n",
      "61. feature 71 (0.000401)\n",
      "62. feature 70 (0.000304)\n",
      "63. feature 73 (0.000250)\n",
      "64. feature 29 (0.000186)\n",
      "65. feature 22 (0.000160)\n",
      "66. feature 72 (0.000039)\n",
      "67. feature 38 (0.000014)\n",
      "68. feature 28 (0.000000)\n",
      "69. feature 31 (0.000000)\n",
      "70. feature 75 (0.000000)\n",
      "71. feature 40 (0.000000)\n",
      "72. feature 41 (0.000000)\n",
      "73. feature 42 (0.000000)\n",
      "74. feature 44 (0.000000)\n",
      "75. feature 47 (0.000000)\n",
      "76. feature 66 (0.000000)\n",
      "77. feature 76 (0.000000)\n"
     ]
    },
    {
     "data": {
      "image/png": "[encoded data removed]",
      "text/plain": [
       "<matplotlib.figure.Figure at 0x10f2dbfd0>"
      ]
     },
     "metadata": {},
     "output_type": "display_data"
    }
   ],
   "source": [
    "importances = forest.feature_importances_\n",
    "std = np.std([tree.feature_importances_ for tree in forest.estimators_],\n",
    "             axis=0)\n",
    "indices = np.argsort(importances)[::-1]\n",
    "\n",
    "# Print the feature ranking\n",
    "print(\"Feature ranking:\")\n",
    "\n",
    "for f in range(X.shape[1]):\n",
    "    print(\"%d. feature %d (%f)\" % (f + 1, indices[f], importances[indices[f]]))\n",
    "\n",
    "# Plot the feature importances of the forest\n",
    "plt.figure()\n",
    "plt.title(\"Feature importances\")\n",
    "plt.bar(range(X.shape[1]), importances[indices],\n",
    "       color=\"r\", yerr=std[indices], align=\"center\")\n",
    "plt.xticks(range(X.shape[1]), [featureList[i] for i in indices],rotation=90)\n",
    "plt.xlim([-1, X.shape[1]])\n",
    "plt.show()"
   ]
  },
  {
   "cell_type": "code",
   "execution_count": 11,
   "metadata": {
    "collapsed": false
   },
   "outputs": [
    {
     "data": {
      "image/png": "[encoded data removed]",
      "text/plain": [
       "<matplotlib.figure.Figure at 0x114e0df98>"
      ]
     },
     "metadata": {},
     "output_type": "display_data"
    }
   ],
   "source": [
    "plt.scatter(df.ix[train_rows]['pred_price'],df.ix[train_rows]['price'])\n",
    "plt.title('Training Set Results')\n",
    "plt.xlabel('Predicted Price ($)')\n",
    "plt.ylabel('Listed Price ($)');"
   ]
  },
  {
   "cell_type": "code",
   "execution_count": 42,
   "metadata": {
    "collapsed": false
   },
   "outputs": [
    {
     "data": {
      "image/png": "[encoded data removed]",
      "text/plain": [
       "<matplotlib.figure.Figure at 0x1153585f8>"
      ]
     },
     "metadata": {},
     "output_type": "display_data"
    }
   ],
   "source": [
    "pred = forest.predict(df.drop(train_rows)[featureList])\n",
    "plt.scatter(pred,df_test['price'])\n",
    "plt.title('Test Set Results')\n",
    "plt.xlabel('Predicted Price ($)')\n",
    "plt.ylabel('Listed Price ($)');"
   ]
  },
  {
   "cell_type": "code",
   "execution_count": 13,
   "metadata": {
    "collapsed": true
   },
   "outputs": [],
   "source": [
    "## Python packages - you may have to pip install sqlalchemy, sqlalchemy_utils, and psycopg2.\n",
    "from sqlalchemy import create_engine\n",
    "from sqlalchemy_utils import database_exists, create_database\n",
    "import psycopg2"
   ]
  },
  {
   "cell_type": "code",
   "execution_count": 14,
   "metadata": {
    "collapsed": false
   },
   "outputs": [
    {
     "name": "stdout",
     "output_type": "stream",
     "text": [
      "postgresql://brian:@localhost/airbnb_db\n",
      "postgresql://brian:@localhost/airbnb_db\n"
     ]
    }
   ],
   "source": [
    "dbname = 'airbnb_db'\n",
    "username = 'brian'\n",
    "pswd = ''\n",
    "engine = create_engine('postgresql://%s:%s@localhost/%s'%(username,pswd,dbname))\n",
    "print('postgresql://%s:%s@localhost/%s'%(username,pswd,dbname))\n",
    "print(engine.url)"
   ]
  },
  {
   "cell_type": "code",
   "execution_count": 15,
   "metadata": {
    "collapsed": true
   },
   "outputs": [],
   "source": [
    "df.to_sql('city_table', engine, if_exists='replace')"
   ]
  },
  {
   "cell_type": "code",
   "execution_count": 16,
   "metadata": {
    "collapsed": false
   },
   "outputs": [],
   "source": [
    "con = None\n",
    "con = psycopg2.connect(database = dbname, user = username, host='localhost', password=pswd)\n",
    "# query:\n",
    "sql_query = 'SELECT * from city_table;'\n",
    "\n",
    "airbnb_data_from_sql = pd.read_sql_query(sql_query,con)"
   ]
  },
  {
   "cell_type": "code",
   "execution_count": 17,
   "metadata": {
    "collapsed": true
   },
   "outputs": [],
   "source": [
    "from sklearn.externals import joblib"
   ]
  },
  {
   "cell_type": "code",
   "execution_count": 18,
   "metadata": {
    "collapsed": false
   },
   "outputs": [
    {
     "data": {
      "text/plain": [
       "['forest_v1.pkl']"
      ]
     },
     "execution_count": 18,
     "metadata": {},
     "output_type": "execute_result"
    }
   ],
   "source": [
    "joblib.dump(forest,'forest_v1.pkl',compress=1)"
   ]
  },
  {
   "cell_type": "code",
   "execution_count": 19,
   "metadata": {
    "collapsed": false
   },
   "outputs": [],
   "source": [
    "forest2 = joblib.load('forest_v1.pkl')"
   ]
  },
  {
   "cell_type": "code",
   "execution_count": 20,
   "metadata": {
    "collapsed": false
   },
   "outputs": [
    {
     "data": {
      "text/plain": [
       "array([  81.7 ,   58.78,   86.52, ...,  317.98,  178.02,  140.68])"
      ]
     },
     "execution_count": 20,
     "metadata": {},
     "output_type": "execute_result"
    }
   ],
   "source": [
    "forest2.predict(airbnb_data_from_sql[featureList])"
   ]
  },
  {
   "cell_type": "code",
   "execution_count": 21,
   "metadata": {
    "collapsed": false
   },
   "outputs": [
    {
     "data": {
      "text/plain": [
       "'0.10.3'"
      ]
     },
     "execution_count": 21,
     "metadata": {},
     "output_type": "execute_result"
    }
   ],
   "source": [
    "joblib.__version__"
   ]
  },
  {
   "cell_type": "code",
   "execution_count": 46,
   "metadata": {
    "collapsed": false
   },
   "outputs": [
    {
     "data": {
      "text/html": [
       "<div>\n",
       "<table border=\"1\" class=\"dataframe\">\n",
       "  <thead>\n",
       "    <tr style=\"text-align: right;\">\n",
       "      <th></th>\n",
       "      <th>room_id</th>\n",
       "      <th>pred_price</th>\n",
       "    </tr>\n",
       "  </thead>\n",
       "  <tbody>\n",
       "    <tr>\n",
       "      <th>0</th>\n",
       "      <td>16536186</td>\n",
       "      <td>64.64</td>\n",
       "    </tr>\n",
       "    <tr>\n",
       "      <th>1</th>\n",
       "      <td>5650515</td>\n",
       "      <td>45.66</td>\n",
       "    </tr>\n",
       "    <tr>\n",
       "      <th>2</th>\n",
       "      <td>4654218</td>\n",
       "      <td>48.30</td>\n",
       "    </tr>\n",
       "    <tr>\n",
       "      <th>3</th>\n",
       "      <td>15026204</td>\n",
       "      <td>66.92</td>\n",
       "    </tr>\n",
       "    <tr>\n",
       "      <th>4</th>\n",
       "      <td>11575586</td>\n",
       "      <td>50.20</td>\n",
       "    </tr>\n",
       "    <tr>\n",
       "      <th>6</th>\n",
       "      <td>11620</td>\n",
       "      <td>42.84</td>\n",
       "    </tr>\n",
       "    <tr>\n",
       "      <th>8</th>\n",
       "      <td>5976428</td>\n",
       "      <td>46.90</td>\n",
       "    </tr>\n",
       "    <tr>\n",
       "      <th>9</th>\n",
       "      <td>15097577</td>\n",
       "      <td>65.10</td>\n",
       "    </tr>\n",
       "    <tr>\n",
       "      <th>10</th>\n",
       "      <td>2126868</td>\n",
       "      <td>46.86</td>\n",
       "    </tr>\n",
       "    <tr>\n",
       "      <th>12</th>\n",
       "      <td>14268636</td>\n",
       "      <td>64.80</td>\n",
       "    </tr>\n",
       "    <tr>\n",
       "      <th>14</th>\n",
       "      <td>6387137</td>\n",
       "      <td>46.22</td>\n",
       "    </tr>\n",
       "    <tr>\n",
       "      <th>21</th>\n",
       "      <td>9033827</td>\n",
       "      <td>68.56</td>\n",
       "    </tr>\n",
       "    <tr>\n",
       "      <th>22</th>\n",
       "      <td>12551557</td>\n",
       "      <td>64.06</td>\n",
       "    </tr>\n",
       "    <tr>\n",
       "      <th>23</th>\n",
       "      <td>15706101</td>\n",
       "      <td>49.24</td>\n",
       "    </tr>\n",
       "    <tr>\n",
       "      <th>24</th>\n",
       "      <td>16125356</td>\n",
       "      <td>48.56</td>\n",
       "    </tr>\n",
       "    <tr>\n",
       "      <th>25</th>\n",
       "      <td>15801360</td>\n",
       "      <td>45.42</td>\n",
       "    </tr>\n",
       "    <tr>\n",
       "      <th>26</th>\n",
       "      <td>8860519</td>\n",
       "      <td>47.90</td>\n",
       "    </tr>\n",
       "    <tr>\n",
       "      <th>27</th>\n",
       "      <td>2601171</td>\n",
       "      <td>62.70</td>\n",
       "    </tr>\n",
       "    <tr>\n",
       "      <th>28</th>\n",
       "      <td>16245771</td>\n",
       "      <td>44.58</td>\n",
       "    </tr>\n",
       "    <tr>\n",
       "      <th>29</th>\n",
       "      <td>9198763</td>\n",
       "      <td>43.24</td>\n",
       "    </tr>\n",
       "    <tr>\n",
       "      <th>30</th>\n",
       "      <td>13319551</td>\n",
       "      <td>54.46</td>\n",
       "    </tr>\n",
       "    <tr>\n",
       "      <th>31</th>\n",
       "      <td>14507316</td>\n",
       "      <td>39.32</td>\n",
       "    </tr>\n",
       "    <tr>\n",
       "      <th>32</th>\n",
       "      <td>11084991</td>\n",
       "      <td>61.84</td>\n",
       "    </tr>\n",
       "    <tr>\n",
       "      <th>33</th>\n",
       "      <td>10746296</td>\n",
       "      <td>54.32</td>\n",
       "    </tr>\n",
       "    <tr>\n",
       "      <th>34</th>\n",
       "      <td>466422</td>\n",
       "      <td>40.36</td>\n",
       "    </tr>\n",
       "    <tr>\n",
       "      <th>35</th>\n",
       "      <td>13566467</td>\n",
       "      <td>56.92</td>\n",
       "    </tr>\n",
       "    <tr>\n",
       "      <th>36</th>\n",
       "      <td>13512916</td>\n",
       "      <td>50.42</td>\n",
       "    </tr>\n",
       "    <tr>\n",
       "      <th>37</th>\n",
       "      <td>14078631</td>\n",
       "      <td>44.70</td>\n",
       "    </tr>\n",
       "    <tr>\n",
       "      <th>39</th>\n",
       "      <td>12813448</td>\n",
       "      <td>48.08</td>\n",
       "    </tr>\n",
       "    <tr>\n",
       "      <th>41</th>\n",
       "      <td>15110752</td>\n",
       "      <td>43.06</td>\n",
       "    </tr>\n",
       "    <tr>\n",
       "      <th>...</th>\n",
       "      <td>...</td>\n",
       "      <td>...</td>\n",
       "    </tr>\n",
       "    <tr>\n",
       "      <th>2112</th>\n",
       "      <td>1932656</td>\n",
       "      <td>270.80</td>\n",
       "    </tr>\n",
       "    <tr>\n",
       "      <th>2113</th>\n",
       "      <td>13240929</td>\n",
       "      <td>231.46</td>\n",
       "    </tr>\n",
       "    <tr>\n",
       "      <th>2114</th>\n",
       "      <td>8459807</td>\n",
       "      <td>184.30</td>\n",
       "    </tr>\n",
       "    <tr>\n",
       "      <th>2115</th>\n",
       "      <td>9636960</td>\n",
       "      <td>266.22</td>\n",
       "    </tr>\n",
       "    <tr>\n",
       "      <th>2116</th>\n",
       "      <td>702635</td>\n",
       "      <td>64.72</td>\n",
       "    </tr>\n",
       "    <tr>\n",
       "      <th>2119</th>\n",
       "      <td>725300</td>\n",
       "      <td>337.04</td>\n",
       "    </tr>\n",
       "    <tr>\n",
       "      <th>2120</th>\n",
       "      <td>8276435</td>\n",
       "      <td>302.06</td>\n",
       "    </tr>\n",
       "    <tr>\n",
       "      <th>2122</th>\n",
       "      <td>4803500</td>\n",
       "      <td>129.84</td>\n",
       "    </tr>\n",
       "    <tr>\n",
       "      <th>2129</th>\n",
       "      <td>2644770</td>\n",
       "      <td>201.76</td>\n",
       "    </tr>\n",
       "    <tr>\n",
       "      <th>2134</th>\n",
       "      <td>13973341</td>\n",
       "      <td>214.92</td>\n",
       "    </tr>\n",
       "    <tr>\n",
       "      <th>2148</th>\n",
       "      <td>2279254</td>\n",
       "      <td>210.54</td>\n",
       "    </tr>\n",
       "    <tr>\n",
       "      <th>2153</th>\n",
       "      <td>4998039</td>\n",
       "      <td>259.60</td>\n",
       "    </tr>\n",
       "    <tr>\n",
       "      <th>2154</th>\n",
       "      <td>8595304</td>\n",
       "      <td>197.92</td>\n",
       "    </tr>\n",
       "    <tr>\n",
       "      <th>2157</th>\n",
       "      <td>10613981</td>\n",
       "      <td>130.24</td>\n",
       "    </tr>\n",
       "    <tr>\n",
       "      <th>2167</th>\n",
       "      <td>6812162</td>\n",
       "      <td>199.24</td>\n",
       "    </tr>\n",
       "    <tr>\n",
       "      <th>2175</th>\n",
       "      <td>14898913</td>\n",
       "      <td>218.00</td>\n",
       "    </tr>\n",
       "    <tr>\n",
       "      <th>2183</th>\n",
       "      <td>10282371</td>\n",
       "      <td>231.08</td>\n",
       "    </tr>\n",
       "    <tr>\n",
       "      <th>2184</th>\n",
       "      <td>10434779</td>\n",
       "      <td>136.22</td>\n",
       "    </tr>\n",
       "    <tr>\n",
       "      <th>2190</th>\n",
       "      <td>10834961</td>\n",
       "      <td>187.52</td>\n",
       "    </tr>\n",
       "    <tr>\n",
       "      <th>2199</th>\n",
       "      <td>1174214</td>\n",
       "      <td>286.38</td>\n",
       "    </tr>\n",
       "    <tr>\n",
       "      <th>2206</th>\n",
       "      <td>1651228</td>\n",
       "      <td>201.36</td>\n",
       "    </tr>\n",
       "    <tr>\n",
       "      <th>2210</th>\n",
       "      <td>30738</td>\n",
       "      <td>98.50</td>\n",
       "    </tr>\n",
       "    <tr>\n",
       "      <th>2212</th>\n",
       "      <td>6292283</td>\n",
       "      <td>89.84</td>\n",
       "    </tr>\n",
       "    <tr>\n",
       "      <th>2218</th>\n",
       "      <td>5672388</td>\n",
       "      <td>168.12</td>\n",
       "    </tr>\n",
       "    <tr>\n",
       "      <th>2226</th>\n",
       "      <td>3850649</td>\n",
       "      <td>168.76</td>\n",
       "    </tr>\n",
       "    <tr>\n",
       "      <th>2228</th>\n",
       "      <td>15223102</td>\n",
       "      <td>391.90</td>\n",
       "    </tr>\n",
       "    <tr>\n",
       "      <th>2231</th>\n",
       "      <td>1618751</td>\n",
       "      <td>214.36</td>\n",
       "    </tr>\n",
       "    <tr>\n",
       "      <th>2236</th>\n",
       "      <td>12025202</td>\n",
       "      <td>196.10</td>\n",
       "    </tr>\n",
       "    <tr>\n",
       "      <th>2237</th>\n",
       "      <td>14991334</td>\n",
       "      <td>58.28</td>\n",
       "    </tr>\n",
       "    <tr>\n",
       "      <th>2242</th>\n",
       "      <td>3689632</td>\n",
       "      <td>198.92</td>\n",
       "    </tr>\n",
       "  </tbody>\n",
       "</table>\n",
       "<p>1747 rows × 2 columns</p>\n",
       "</div>"
      ],
      "text/plain": [
       "       room_id  pred_price\n",
       "0     16536186       64.64\n",
       "1      5650515       45.66\n",
       "2      4654218       48.30\n",
       "3     15026204       66.92\n",
       "4     11575586       50.20\n",
       "6        11620       42.84\n",
       "8      5976428       46.90\n",
       "9     15097577       65.10\n",
       "10     2126868       46.86\n",
       "12    14268636       64.80\n",
       "14     6387137       46.22\n",
       "21     9033827       68.56\n",
       "22    12551557       64.06\n",
       "23    15706101       49.24\n",
       "24    16125356       48.56\n",
       "25    15801360       45.42\n",
       "26     8860519       47.90\n",
       "27     2601171       62.70\n",
       "28    16245771       44.58\n",
       "29     9198763       43.24\n",
       "30    13319551       54.46\n",
       "31    14507316       39.32\n",
       "32    11084991       61.84\n",
       "33    10746296       54.32\n",
       "34      466422       40.36\n",
       "35    13566467       56.92\n",
       "36    13512916       50.42\n",
       "37    14078631       44.70\n",
       "39    12813448       48.08\n",
       "41    15110752       43.06\n",
       "...        ...         ...\n",
       "2112   1932656      270.80\n",
       "2113  13240929      231.46\n",
       "2114   8459807      184.30\n",
       "2115   9636960      266.22\n",
       "2116    702635       64.72\n",
       "2119    725300      337.04\n",
       "2120   8276435      302.06\n",
       "2122   4803500      129.84\n",
       "2129   2644770      201.76\n",
       "2134  13973341      214.92\n",
       "2148   2279254      210.54\n",
       "2153   4998039      259.60\n",
       "2154   8595304      197.92\n",
       "2157  10613981      130.24\n",
       "2167   6812162      199.24\n",
       "2175  14898913      218.00\n",
       "2183  10282371      231.08\n",
       "2184  10434779      136.22\n",
       "2190  10834961      187.52\n",
       "2199   1174214      286.38\n",
       "2206   1651228      201.36\n",
       "2210     30738       98.50\n",
       "2212   6292283       89.84\n",
       "2218   5672388      168.12\n",
       "2226   3850649      168.76\n",
       "2228  15223102      391.90\n",
       "2231   1618751      214.36\n",
       "2236  12025202      196.10\n",
       "2237  14991334       58.28\n",
       "2242   3689632      198.92\n",
       "\n",
       "[1747 rows x 2 columns]"
      ]
     },
     "execution_count": 46,
     "metadata": {},
     "output_type": "execute_result"
    }
   ],
   "source": [
    "df[['room_id','pred_price']]"
   ]
  },
  {
   "cell_type": "code",
   "execution_count": null,
   "metadata": {
    "collapsed": true
   },
   "outputs": [],
   "source": []
  }
 ],
 "metadata": {
  "anaconda-cloud": {},
  "kernelspec": {
   "display_name": "Python [conda env:my_projects_env]",
   "language": "python",
   "name": "conda-env-my_projects_env-py"
  },
  "language_info": {
   "codemirror_mode": {
    "name": "ipython",
    "version": 3
   },
   "file_extension": ".py",
   "mimetype": "text/x-python",
   "name": "python",
   "nbconvert_exporter": "python",
   "pygments_lexer": "ipython3",
   "version": "3.5.2"
  }
 },
 "nbformat": 4,
 "nbformat_minor": 2
}
